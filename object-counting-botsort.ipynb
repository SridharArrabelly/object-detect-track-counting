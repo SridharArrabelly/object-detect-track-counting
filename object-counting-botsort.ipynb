{
 "cells": [
  {
   "cell_type": "code",
   "execution_count": null,
   "id": "1a41cae7",
   "metadata": {},
   "outputs": [],
   "source": [
    "# Install and import Required Libraries\n",
    "# %pip install ultralytics\n",
    "import cv2\n",
    "from ultralytics import YOLO, solutions"
   ]
  },
  {
   "cell_type": "code",
   "execution_count": null,
   "id": "49bf46a8",
   "metadata": {},
   "outputs": [],
   "source": [
    "# Define paths:\n",
    "path_input_video = 'sample-video.mp4' \n",
    "path_output_video = \"output_video_botsort.avi\"\n",
    "path_model = \"yolo11n.pt\""
   ]
  },
  {
   "cell_type": "code",
   "execution_count": null,
   "id": "02921c14",
   "metadata": {},
   "outputs": [],
   "source": [
    "# Initialize YOLOv8 Detection Model\n",
    "model = YOLO(path_model)\n",
    "\n",
    "# Initialize Object Counter\n",
    "counter = solutions.ObjectCounter( \n",
    "  view_img=True,                     # Display the image during processing \n",
    "  reg_pts=[(512, 320), (512, 1850)], # Region of interest points \n",
    "  classes_names=model.names,         # Class names from the YOLO model \n",
    "  draw_tracks=True,                  # Draw tracking lines for objects \n",
    "  line_thickness=2,                  # Thickness of the lines drawn \n",
    "  )"
   ]
  },
  {
   "cell_type": "code",
   "execution_count": null,
   "id": "087f2b80",
   "metadata": {},
   "outputs": [],
   "source": [
    "\n",
    "\n",
    "# Open the Video File\n",
    "cap = cv2.VideoCapture(path_input_video) \n",
    "assert cap.isOpened(), \"Error reading video file\"\n",
    "\n",
    "# Initialize the Video Writer to save resulted video\n",
    "video_writer = cv2.VideoWriter(path_output_video, cv2.VideoWriter_fourcc(*\"mp4v\"), 30, (1080, 1920))\n",
    "\n",
    "# itterate over video frames:\n",
    "frame_count = 0 \n",
    "while cap.isOpened(): \n",
    "  success, frame = cap.read() \n",
    "  if not success: \n",
    "    print(\"Video frame is empty or video processing has been successfully completed.\") \n",
    "    break \n",
    "\n",
    "  # Perform object tracking on the current frame \n",
    "  tracks = model.track(frame, persist=True, tracker='botsort.yaml', iou=0.2) \n",
    "\n",
    "  # Use the Object Counter to count objects in the frame and get the annotated image \n",
    "  frame = counter.start_counting(frame, tracks) \n",
    "\n",
    "  # Write the annotated frame to the output video \n",
    "  video_writer.write(frame) \n",
    "  frame_count += 1\n",
    "\n",
    "# Release all Resources:\n",
    "cap.release() \n",
    "video_writer.release() \n",
    "cv2.destroyAllWindows()\n",
    "\n",
    "# Print counting results:\n",
    "print(f'In: {counter.in_counts}\\nOut: {counter.out_counts}\\nTotal: {counter.in_counts + counter.out_counts}')\n",
    "print(f'Saves output video to {path_output_video}')"
   ]
  },
  {
   "cell_type": "code",
   "execution_count": 17,
   "id": "5b4902af",
   "metadata": {},
   "outputs": [
    {
     "name": "stdout",
     "output_type": "stream",
     "text": [
      "Ultralytics Solutions:  {'region': [(20, 400), (1080, 404), (1080, 360), (20, 360)], 'show_in': True, 'show_out': True, 'colormap': None, 'up_angle': 145.0, 'down_angle': 90, 'kpts': [6, 8, 10], 'analytics_type': 'line', 'json_file': None, 'records': 5, 'view_img': True, 'reg_pts': [(0, 244), (131, 244)], 'classes_names': {0: 'person', 1: 'bicycle', 2: 'car', 3: 'motorcycle', 4: 'airplane', 5: 'bus', 6: 'train', 7: 'truck', 8: 'boat', 9: 'traffic light', 10: 'fire hydrant', 11: 'stop sign', 12: 'parking meter', 13: 'bench', 14: 'bird', 15: 'cat', 16: 'dog', 17: 'horse', 18: 'sheep', 19: 'cow', 20: 'elephant', 21: 'bear', 22: 'zebra', 23: 'giraffe', 24: 'backpack', 25: 'umbrella', 26: 'handbag', 27: 'tie', 28: 'suitcase', 29: 'frisbee', 30: 'skis', 31: 'snowboard', 32: 'sports ball', 33: 'kite', 34: 'baseball bat', 35: 'baseball glove', 36: 'skateboard', 37: 'surfboard', 38: 'tennis racket', 39: 'bottle', 40: 'wine glass', 41: 'cup', 42: 'fork', 43: 'knife', 44: 'spoon', 45: 'bowl', 46: 'banana', 47: 'apple', 48: 'sandwich', 49: 'orange', 50: 'broccoli', 51: 'carrot', 52: 'hot dog', 53: 'pizza', 54: 'donut', 55: 'cake', 56: 'chair', 57: 'couch', 58: 'potted plant', 59: 'bed', 60: 'dining table', 61: 'toilet', 62: 'tv', 63: 'laptop', 64: 'mouse', 65: 'remote', 66: 'keyboard', 67: 'cell phone', 68: 'microwave', 69: 'oven', 70: 'toaster', 71: 'sink', 72: 'refrigerator', 73: 'book', 74: 'clock', 75: 'vase', 76: 'scissors', 77: 'teddy bear', 78: 'hair drier', 79: 'toothbrush'}, 'draw_tracks': True, 'line_thickness': 2, 'show': True, 'model': 'yolo11n.pt'}\n"
     ]
    },
    {
     "ename": "AttributeError",
     "evalue": "'ObjectCounter' object has no attribute 'count'",
     "output_type": "error",
     "traceback": [
      "\u001b[31m---------------------------------------------------------------------------\u001b[39m",
      "\u001b[31mAttributeError\u001b[39m                            Traceback (most recent call last)",
      "\u001b[36mCell\u001b[39m\u001b[36m \u001b[39m\u001b[32mIn[17]\u001b[39m\u001b[32m, line 27\u001b[39m\n\u001b[32m     25\u001b[39m         \u001b[38;5;28mprint\u001b[39m(\u001b[33m\"\u001b[39m\u001b[33mNo more frames to process or video completed successfully.\u001b[39m\u001b[33m\"\u001b[39m)\n\u001b[32m     26\u001b[39m         \u001b[38;5;28;01mbreak\u001b[39;00m\n\u001b[32m---> \u001b[39m\u001b[32m27\u001b[39m     im0 = \u001b[43mcounter\u001b[49m\u001b[43m.\u001b[49m\u001b[43mcount\u001b[49m(im0)\n\u001b[32m     28\u001b[39m     video_writer.write(im0)\n\u001b[32m     30\u001b[39m cap.release()\n",
      "\u001b[31mAttributeError\u001b[39m: 'ObjectCounter' object has no attribute 'count'"
     ]
    }
   ],
   "source": [
    "import cv2\n",
    "from ultralytics import solutions\n",
    "\n",
    "cap = cv2.VideoCapture(\"sample-video.mp4\")\n",
    "assert cap.isOpened(), \"Error reading video file\"\n",
    "w, h, fps = (int(cap.get(prop)) for prop in (cv2.CAP_PROP_FRAME_WIDTH, cv2.CAP_PROP_FRAME_HEIGHT, cv2.CAP_PROP_FPS))\n",
    "\n",
    "# Define region points\n",
    "region_points = [(20, 400), (1080, 404), (1080, 360), (20, 360)]\n",
    "\n",
    "# Video writer\n",
    "video_writer = cv2.VideoWriter(\"object_counting_output.avi\", cv2.VideoWriter_fourcc(*\"mp4v\"), fps, (w, h))\n",
    "\n",
    "# Initialize Object Counter\n",
    "counter = solutions.ObjectCounter(\n",
    "    show=True,\n",
    "    region=region_points,\n",
    "    model=\"yolo11n.pt\",\n",
    ")\n",
    "\n",
    "# Process the video\n",
    "while cap.isOpened():\n",
    "    success, im0 = cap.read()\n",
    "    if not success:\n",
    "        print(\"No more frames to process or video completed successfully.\")\n",
    "        break\n",
    "    im0 = counter.count(im0)\n",
    "    video_writer.write(im0)\n",
    "\n",
    "cap.release()\n",
    "video_writer.release()\n",
    "cv2.destroyAllWindows()"
   ]
  }
 ],
 "metadata": {
  "kernelspec": {
   "display_name": ".venv",
   "language": "python",
   "name": "python3"
  },
  "language_info": {
   "codemirror_mode": {
    "name": "ipython",
    "version": 3
   },
   "file_extension": ".py",
   "mimetype": "text/x-python",
   "name": "python",
   "nbconvert_exporter": "python",
   "pygments_lexer": "ipython3",
   "version": "3.11.9"
  }
 },
 "nbformat": 4,
 "nbformat_minor": 5
}
